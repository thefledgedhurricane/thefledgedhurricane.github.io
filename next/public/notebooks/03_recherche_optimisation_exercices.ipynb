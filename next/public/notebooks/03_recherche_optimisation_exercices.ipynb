{
 "cells": [
  {
   "cell_type": "markdown",
   "id": "14d5924b",
   "metadata": {},
   "source": [
    "# Exercices — Recherche & Optimisation\n",
    "Complétez les fonctions pour BFS/DFS et A*."
   ]
  },
  {
   "cell_type": "code",
   "execution_count": null,
   "id": "e72d1247",
   "metadata": {},
   "outputs": [],
   "source": [
    "# Q1: BFS sur un graphe non pondéré\n",
    "from collections import deque\n",
    "def bfs(adj, start, goal):\n",
    "    # add your code here\n",
    "    return []\n",
    "\n",
    "adj = { 'A':['B','C'], 'B':['D'], 'C':['D','E'], 'D':['F'], 'E':['F'], 'F':[] }\n",
    "bfs(adj, 'A', 'F')"
   ]
  },
  {
   "cell_type": "code",
   "execution_count": null,
   "id": "e06ff0a6",
   "metadata": {},
   "outputs": [],
   "source": [
    "# Q2: A* sur grille avec heuristique manhattan\n",
    "def astar(start, goal, walls, width, height):\n",
    "    # add your code here\n",
    "    return []\n",
    "\n",
    "astar((0,0),(3,3), {(1,0),(1,1),(1,2)}, 4, 4)"
   ]
  }
 ],
 "metadata": {
  "language_info": {
   "name": "python"
  }
 },
 "nbformat": 4,
 "nbformat_minor": 5
}
