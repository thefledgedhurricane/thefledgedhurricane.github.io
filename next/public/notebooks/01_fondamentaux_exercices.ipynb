{
 "cells": [
  {
   "cell_type": "markdown",
   "id": "b966f03d",
   "metadata": {},
   "source": [
    "# Exercices — Fondamentaux de l'IA\n",
    "Complétez les cellules 'add your code here' pour répondre aux questions."
   ]
  },
  {
   "cell_type": "code",
   "execution_count": null,
   "id": "366233b2",
   "metadata": {},
   "outputs": [],
   "source": [
    "# Q1: Donnez 3 domaines d'application de l'IA (liste de chaînes)\n",
    "applications = []  # add your code here\n",
    "applications"
   ]
  },
  {
   "cell_type": "code",
   "execution_count": null,
   "id": "be811750",
   "metadata": {},
   "outputs": [],
   "source": [
    "# Q2: Implémentez une fonction simple de règle: si temperature>38 et maux_de_tete True -> 'fièvre'\n",
    "def diagnostic(temperature, maux_de_tete):\n",
    "    # add your code here\n",
    "    return None\n",
    "\n",
    "diagnostic(39.1, True)"
   ]
  }
 ],
 "metadata": {
  "language_info": {
   "name": "python"
  }
 },
 "nbformat": 4,
 "nbformat_minor": 5
}
