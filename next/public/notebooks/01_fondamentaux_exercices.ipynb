{
 "cells": [
  {
   "cell_type": "markdown",
   "id": "b966f03d",
   "metadata": {},
   "source": [
    "# 🎓 Exercices — Fondamentaux de l'IA\n",
    "\n",
    "Ce notebook contient des exercices pratiques pour renforcer votre compréhension des concepts fondamentaux de l'Intelligence Artificielle.\n",
    "\n",
    "## Instructions\n",
    "- Complétez les cellules marquées `# TODO: add your code here`\n",
    "- Exécutez chaque cellule pour vérifier vos résultats\n",
    "- Des tests automatiques valideront vos réponses\n",
    "\n",
    "## 📚 Concepts couverts\n",
    "1. Domaines d'application de l'IA\n",
    "2. Systèmes experts et règles logiques\n",
    "3. Différences entre approches symboliques et statistiques\n",
    "4. Histoire et cycles de l'IA"
   ]
  },
  {
   "cell_type": "code",
   "execution_count": null,
   "id": "366233b2",
   "metadata": {},
   "outputs": [],
   "source": [
    "# 🎯 Exercice 1: Domaines d'application de l'IA\n",
    "# Listez au moins 5 domaines où l'IA a un impact significatif\n",
    "\n",
    "applications = [\n",
    "    # TODO: add your code here\n",
    "    # Exemples: \"santé\", \"transport\", \"finance\", ...\n",
    "]\n",
    "\n",
    "# Test automatique\n",
    "print(f\"Vous avez listé {len(applications)} domaines:\")\n",
    "for i, app in enumerate(applications, 1):\n",
    "    print(f\"{i}. {app}\")\n",
    "\n",
    "# Vérification\n",
    "assert len(applications) >= 3, \"Vous devez lister au moins 3 domaines\"\n",
    "print(\"✅ Test réussi!\")"
   ]
  },
  {
   "cell_type": "code",
   "execution_count": null,
   "id": "be811750",
   "metadata": {},
   "outputs": [],
   "source": [
    "# 🤖 Exercice 2: Système expert simple\n",
    "# Implémentez un système de diagnostic médical basé sur des règles\n",
    "\n",
    "def diagnostic_medical(temperature, maux_de_tete, toux, mal_gorge):\n",
    "    \"\"\"\n",
    "    Système expert simple pour diagnostic médical\n",
    "    \n",
    "    Règles:\n",
    "    - Si température > 38°C ET maux_de_tête → suspicion_fièvre\n",
    "    - Si suspicion_fièvre ET toux → possibilité_grippe  \n",
    "    - Si suspicion_fièvre ET mal_gorge → possibilité_angine\n",
    "    - Sinon → état_normal\n",
    "    \n",
    "    Args:\n",
    "        temperature (float): Température corporelle en °C\n",
    "        maux_de_tete (bool): Présence de maux de tête\n",
    "        toux (bool): Présence de toux\n",
    "        mal_gorge (bool): Présence de mal de gorge\n",
    "    \n",
    "    Returns:\n",
    "        str: Diagnostic suggéré\n",
    "    \"\"\"\n",
    "    # TODO: add your code here\n",
    "    # Implémentez les règles de diagnostic\n",
    "    \n",
    "    return \"état_normal\"  # placeholder\n",
    "\n",
    "# Tests\n",
    "print(\"Tests du système expert:\")\n",
    "print(f\"Test 1: {diagnostic_medical(39.1, True, True, False)}\")   # → possibilité_grippe\n",
    "print(f\"Test 2: {diagnostic_medical(39.5, True, False, True)}\")   # → possibilité_angine  \n",
    "print(f\"Test 3: {diagnostic_medical(37.2, False, False, False)}\") # → état_normal\n",
    "\n",
    "# Test automatique\n",
    "result1 = diagnostic_medical(39.1, True, True, False)\n",
    "assert \"grippe\" in result1.lower(), f\"Attendu 'grippe', obtenu '{result1}'\"\n",
    "print(\"✅ Test système expert réussi!\")"
   ]
  }
 ],
 "metadata": {
  "language_info": {
   "name": "python"
  }
 },
 "nbformat": 4,
 "nbformat_minor": 5
}
