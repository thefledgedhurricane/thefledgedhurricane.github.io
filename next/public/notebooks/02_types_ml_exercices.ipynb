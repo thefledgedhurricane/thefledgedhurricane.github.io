{
 "cells": [
  {
   "cell_type": "markdown",
   "id": "fbc33685",
   "metadata": {},
   "source": [
    "# Exercices — Types de ML\n",
    "Complétez les cellules pour calculer des métriques et entrainer de petits modèles."
   ]
  },
  {
   "cell_type": "code",
   "execution_count": null,
   "id": "05aace3a",
   "metadata": {},
   "outputs": [],
   "source": [
    "# Q1: Calculez précision, rappel et F1 pour TP=30, FP=10, FN=5\n",
    "TP, FP, FN = 30, 10, 5\n",
    "precision = None  # add your code here\n",
    "rappel = None     # add your code here\n",
    "f1 = None         # add your code here\n",
    "precision, rappel, f1"
   ]
  },
  {
   "cell_type": "code",
   "execution_count": null,
   "id": "d803897a",
   "metadata": {},
   "outputs": [],
   "source": [
    "# Q2: Implémentez une régression linéaire univariée fermée (w0, w1) sur (x,y)\n",
    "x = [80,100,120,150,200]\n",
    "y = [150,200,230,300,400]\n",
    "# add your code here\n",
    "w0, w1 = None, None\n",
    "w0, w1"
   ]
  },
  {
   "cell_type": "code",
   "execution_count": null,
   "id": "d1f27eed",
   "metadata": {},
   "outputs": [],
   "source": [
    "# Q3 (bonus): Effectuez une itération de K-Means (centres initiaux donnés)\n",
    "import math\n",
    "points = [(0,0),(1,0),(0,1),(5,5),(6,5),(5,6)]\n",
    "centres = [(0,0),(5,5)]\n",
    "# add your code here\n",
    "clusters = None\n",
    "clusters"
   ]
  }
 ],
 "metadata": {
  "language_info": {
   "name": "python"
  }
 },
 "nbformat": 4,
 "nbformat_minor": 5
}
